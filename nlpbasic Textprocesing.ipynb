{
 "cells": [
  {
   "cell_type": "code",
   "execution_count": null,
   "id": "0cbb1a35",
   "metadata": {},
   "outputs": [],
   "source": []
  },
  {
   "cell_type": "code",
   "execution_count": 3,
   "id": "26c25910",
   "metadata": {},
   "outputs": [],
   "source": [
    "import string\n",
    "k=string.punctuation"
   ]
  },
  {
   "cell_type": "code",
   "execution_count": 4,
   "id": "b454a0e2",
   "metadata": {},
   "outputs": [
    {
     "name": "stdout",
     "output_type": "stream",
     "text": [
      "!\"#$%&'()*+,-./:;<=>?@[\\]^_`{|}~\n"
     ]
    }
   ],
   "source": [
    "print(k)"
   ]
  },
  {
   "cell_type": "code",
   "execution_count": 7,
   "id": "4ec71bad",
   "metadata": {},
   "outputs": [
    {
     "name": "stdout",
     "output_type": "stream",
     "text": [
      "iam hari priya 3i love india\n"
     ]
    }
   ],
   "source": [
    "def remove_pun(str1):\n",
    "    return str1.translate(str.maketrans('','',k))\n",
    "str1=\"iam hari ****##@$$priya *$3i love india>>\"\n",
    "print(remove_pun(str1))\n"
   ]
  },
  {
   "cell_type": "code",
   "execution_count": 16,
   "id": "aa39d194",
   "metadata": {},
   "outputs": [
    {
     "data": {
      "text/plain": [
       "'am haripriay an do anything'"
      ]
     },
     "execution_count": 16,
     "metadata": {},
     "output_type": "execute_result"
    }
   ],
   "source": [
    "#spelling correction\n",
    "from textblob import TextBlob\n",
    "str1=\"iam haripriay kan do anythig\"\n",
    "text=TextBlob(str1)\n",
    "text.correct().string\n",
    "\n"
   ]
  },
  {
   "cell_type": "code",
   "execution_count": 22,
   "id": "31e1626f",
   "metadata": {},
   "outputs": [
    {
     "name": "stdout",
     "output_type": "stream",
     "text": [
      " iam haripirya \n"
     ]
    }
   ],
   "source": [
    "#remove html codes\n",
    "import re\n",
    "reg=re.compile(r'<.*?>')\n",
    "\n",
    "def remove_html(str2):\n",
    "    return reg.sub(\"\",str2)\n",
    "str2=\"<h1> iam haripirya </p>\"\n",
    "print(remove_html(str2))\n",
    "    \n",
    "    "
   ]
  },
  {
   "cell_type": "code",
   "execution_count": 28,
   "id": "4e51ce87",
   "metadata": {},
   "outputs": [
    {
     "name": "stdout",
     "output_type": "stream",
     "text": [
      "Requirement already satisfied: textblob in c:\\users\\hp\\anaconda3\\lib\\site-packages (0.17.1)\n",
      "Requirement already satisfied: nltk>=3.1 in c:\\users\\hp\\anaconda3\\lib\\site-packages (from textblob) (3.6.5)\n",
      "Requirement already satisfied: click in c:\\users\\hp\\anaconda3\\lib\\site-packages (from nltk>=3.1->textblob) (8.0.3)\n",
      "Requirement already satisfied: joblib in c:\\users\\hp\\anaconda3\\lib\\site-packages (from nltk>=3.1->textblob) (1.1.0)\n",
      "Requirement already satisfied: regex>=2021.8.3 in c:\\users\\hp\\anaconda3\\lib\\site-packages (from nltk>=3.1->textblob) (2021.8.3)\n",
      "Requirement already satisfied: tqdm in c:\\users\\hp\\anaconda3\\lib\\site-packages (from nltk>=3.1->textblob) (4.62.3)\n",
      "Requirement already satisfied: colorama in c:\\users\\hp\\anaconda3\\lib\\site-packages (from click->nltk>=3.1->textblob) (0.4.6)\n"
     ]
    }
   ],
   "source": [
    "#iinstall TextBLob\n",
    "!pip install -U textblob"
   ]
  },
  {
   "cell_type": "code",
   "execution_count": 30,
   "id": "805429c7",
   "metadata": {},
   "outputs": [],
   "source": [
    "from textblob import TextBlob"
   ]
  },
  {
   "cell_type": "code",
   "execution_count": 35,
   "id": "7c2fc420",
   "metadata": {},
   "outputs": [],
   "source": [
    "text=TextBlob('I am hari priya it is my last day to life in hyderabad')\n"
   ]
  },
  {
   "cell_type": "code",
   "execution_count": 36,
   "id": "c634f8f5",
   "metadata": {},
   "outputs": [
    {
     "data": {
      "text/plain": [
       "WordList(['hari priya'])"
      ]
     },
     "execution_count": 36,
     "metadata": {},
     "output_type": "execute_result"
    }
   ],
   "source": [
    "#pos tagging\n",
    "text.noun_phrases"
   ]
  },
  {
   "cell_type": "code",
   "execution_count": 37,
   "id": "f172df83",
   "metadata": {},
   "outputs": [
    {
     "data": {
      "text/plain": [
       "[('I', 'PRP'),\n",
       " ('am', 'VBP'),\n",
       " ('hari', 'JJ'),\n",
       " ('priya', 'NN'),\n",
       " ('it', 'PRP'),\n",
       " ('is', 'VBZ'),\n",
       " ('my', 'PRP$'),\n",
       " ('last', 'JJ'),\n",
       " ('day', 'NN'),\n",
       " ('to', 'TO'),\n",
       " ('life', 'NN'),\n",
       " ('in', 'IN'),\n",
       " ('hyderabad', 'NN')]"
      ]
     },
     "execution_count": 37,
     "metadata": {},
     "output_type": "execute_result"
    }
   ],
   "source": [
    "text.tags\n"
   ]
  },
  {
   "cell_type": "code",
   "execution_count": 38,
   "id": "283a3c95",
   "metadata": {},
   "outputs": [
    {
     "data": {
      "text/plain": [
       "Sentiment(polarity=0.0, subjectivity=0.06666666666666667)"
      ]
     },
     "execution_count": 38,
     "metadata": {},
     "output_type": "execute_result"
    }
   ],
   "source": [
    "text.sentiment"
   ]
  },
  {
   "cell_type": "code",
   "execution_count": 39,
   "id": "fa9e54b7",
   "metadata": {},
   "outputs": [
    {
     "data": {
      "text/plain": [
       "WordList(['I', 'am', 'hari', 'priya', 'it', 'is', 'my', 'last', 'day', 'to', 'life', 'in', 'hyderabad'])"
      ]
     },
     "execution_count": 39,
     "metadata": {},
     "output_type": "execute_result"
    }
   ],
   "source": [
    "text.words"
   ]
  },
  {
   "cell_type": "code",
   "execution_count": 40,
   "id": "4948e624",
   "metadata": {},
   "outputs": [
    {
     "data": {
      "text/plain": [
       "[Sentence(\"I am hari priya it is my last day to life in hyderabad\")]"
      ]
     },
     "execution_count": 40,
     "metadata": {},
     "output_type": "execute_result"
    }
   ],
   "source": [
    "text.sentences"
   ]
  },
  {
   "cell_type": "code",
   "execution_count": 47,
   "id": "d53b0101",
   "metadata": {},
   "outputs": [
    {
     "data": {
      "text/plain": [
       "'iss'"
      ]
     },
     "execution_count": 47,
     "metadata": {},
     "output_type": "execute_result"
    }
   ],
   "source": [
    "text.words[5].pluralize()"
   ]
  },
  {
   "cell_type": "code",
   "execution_count": 50,
   "id": "a9f5bc72",
   "metadata": {},
   "outputs": [
    {
     "data": {
      "text/plain": [
       "[WordList(['I', 'am', 'hari']),\n",
       " WordList(['am', 'hari', 'priya']),\n",
       " WordList(['hari', 'priya', 'it']),\n",
       " WordList(['priya', 'it', 'is']),\n",
       " WordList(['it', 'is', 'my']),\n",
       " WordList(['is', 'my', 'last']),\n",
       " WordList(['my', 'last', 'day']),\n",
       " WordList(['last', 'day', 'to']),\n",
       " WordList(['day', 'to', 'life']),\n",
       " WordList(['to', 'life', 'in']),\n",
       " WordList(['life', 'in', 'hyderabad'])]"
      ]
     },
     "execution_count": 50,
     "metadata": {},
     "output_type": "execute_result"
    }
   ],
   "source": [
    "text.ngrams(n=3)"
   ]
  },
  {
   "cell_type": "code",
   "execution_count": 51,
   "id": "f8e4834c",
   "metadata": {},
   "outputs": [
    {
     "data": {
      "text/plain": [
       "TextBlob(\"I AM HARI PRIYA IT IS MY LAST DAY TO LIFE IN HYDERABAD\")"
      ]
     },
     "execution_count": 51,
     "metadata": {},
     "output_type": "execute_result"
    }
   ],
   "source": [
    "text.upper()"
   ]
  },
  {
   "cell_type": "code",
   "execution_count": 55,
   "id": "23970a2e",
   "metadata": {},
   "outputs": [
    {
     "data": {
      "text/plain": [
       "2"
      ]
     },
     "execution_count": 55,
     "metadata": {},
     "output_type": "execute_result"
    }
   ],
   "source": [
    "text.find('am')"
   ]
  },
  {
   "cell_type": "code",
   "execution_count": 57,
   "id": "a2a15311",
   "metadata": {},
   "outputs": [
    {
     "data": {
      "text/plain": [
       "'I/PRP/B-NP/O am/VBP/B-VP/O hari/NN/B-NP/O priya/NN/I-NP/O it/PRP/I-NP/O is/VBZ/B-VP/O my/PRP$/B-NP/O last/JJ/I-NP/O day/NN/I-NP/O to/TO/B-PP/B-PNP life/NN/B-NP/I-PNP in/IN/B-PP/B-PNP hyderabad/NN/B-NP/I-PNP'"
      ]
     },
     "execution_count": 57,
     "metadata": {},
     "output_type": "execute_result"
    }
   ],
   "source": [
    "text.parse()"
   ]
  },
  {
   "cell_type": "code",
   "execution_count": 70,
   "id": "a60e7e7d",
   "metadata": {},
   "outputs": [],
   "source": [
    "from sklearn.feature_extraction.text import CountVectorizer\n",
    "cv=CountVectorizer()\n"
   ]
  },
  {
   "cell_type": "code",
   "execution_count": 61,
   "id": "af63ad4b",
   "metadata": {},
   "outputs": [
    {
     "name": "stdout",
     "output_type": "stream",
     "text": [
      "hello      shou\n"
     ]
    }
   ],
   "source": [
    "#stop words removes\n",
    "from nltk.corpus import stopwords\n",
    "def remove_st(text):\n",
    "    new_text=[]\n",
    "    for word in text.split():\n",
    "        if word in stopwords.words('english'):\n",
    "            new_text.append('')\n",
    "        else:\n",
    "            new_text.append(word)\n",
    "    x=new_text[:]\n",
    "    new_text.clear()\n",
    "    return \" \".join(x)\n",
    "print(remove_st(\"hello how are you d now shou\"))"
   ]
  },
  {
   "cell_type": "code",
   "execution_count": 66,
   "id": "71a6d260",
   "metadata": {},
   "outputs": [
    {
     "name": "stdout",
     "output_type": "stream",
     "text": [
      "love python :grinning_face:\n"
     ]
    }
   ],
   "source": [
    "#removing emjois\n",
    "from emoji import emojize\n",
    "import emoji\n",
    "print(emoji.demojize('love python 😀'))\n",
    "\n"
   ]
  },
  {
   "cell_type": "code",
   "execution_count": 65,
   "id": "9120199b",
   "metadata": {},
   "outputs": [
    {
     "name": "stdout",
     "output_type": "stream",
     "text": [
      "Collecting emoji\n",
      "  Downloading emoji-2.2.0.tar.gz (240 kB)\n",
      "     ------------------------------------ 240.9/240.9 kB 703.3 kB/s eta 0:00:00\n",
      "  Preparing metadata (setup.py): started\n",
      "  Preparing metadata (setup.py): finished with status 'done'\n",
      "Building wheels for collected packages: emoji\n",
      "  Building wheel for emoji (setup.py): started\n",
      "  Building wheel for emoji (setup.py): finished with status 'done'\n",
      "  Created wheel for emoji: filename=emoji-2.2.0-py3-none-any.whl size=234925 sha256=f251ebc76d21c001749bccebc5232a628b69da2945e096af49ee26422e1827d2\n",
      "  Stored in directory: c:\\users\\hp\\appdata\\local\\pip\\cache\\wheels\\9a\\b8\\0f\\f580817231cbf59f6ade9fd132ff60ada1de9f7dc85521f857\n",
      "Successfully built emoji\n",
      "Installing collected packages: emoji\n",
      "Successfully installed emoji-2.2.0\n"
     ]
    }
   ],
   "source": [
    "!pip install emoji --upgrade"
   ]
  },
  {
   "cell_type": "code",
   "execution_count": 72,
   "id": "abba2d2b",
   "metadata": {},
   "outputs": [
    {
     "name": "stdout",
     "output_type": "stream",
     "text": [
      "{'i': 1, 'am': 1, 'hari': 1, 'priya': 1, 'it': 1, 'is': 1, 'my': 1, 'last': 1, 'day': 1, 'to': 1, 'life': 1, 'in': 1, 'hyderabad': 1}\n"
     ]
    }
   ],
   "source": [
    "from collections import Counter\n",
    "dic={}\n",
    "words=text.split()\n",
    "for i in words:\n",
    "    word=i.lower()\n",
    "    if word in dic:\n",
    "        dic[word]+=1\n",
    "    else:\n",
    "        dic[word]=1\n",
    "print(dic)\n"
   ]
  },
  {
   "cell_type": "code",
   "execution_count": null,
   "id": "f8bb3c29",
   "metadata": {},
   "outputs": [],
   "source": []
  }
 ],
 "metadata": {
  "kernelspec": {
   "display_name": "Python 3 (ipykernel)",
   "language": "python",
   "name": "python3"
  },
  "language_info": {
   "codemirror_mode": {
    "name": "ipython",
    "version": 3
   },
   "file_extension": ".py",
   "mimetype": "text/x-python",
   "name": "python",
   "nbconvert_exporter": "python",
   "pygments_lexer": "ipython3",
   "version": "3.9.7"
  }
 },
 "nbformat": 4,
 "nbformat_minor": 5
}
